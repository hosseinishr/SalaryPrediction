{
 "cells": [
  {
   "cell_type": "markdown",
   "metadata": {},
   "source": [
    "## Importing required packages"
   ]
  },
  {
   "cell_type": "code",
   "execution_count": 1,
   "metadata": {},
   "outputs": [],
   "source": [
    "import pandas as pd\n",
    "import numpy as np\n",
    "import matplotlib.pyplot as plt\n",
    "from sklearn.ensemble import RandomForestRegressor, GradientBoostingRegressor\n",
    "from sklearn.model_selection import cross_val_score\n",
    "from sklearn.utils import shuffle\n",
    "from sklearn.metrics import mean_squared_error\n",
    "from sklearn.linear_model import LinearRegression\n",
    "from sklearn.preprocessing import LabelEncoder\n",
    "from sklearn.pipeline import make_pipeline\n",
    "from sklearn.decomposition import PCA\n",
    "from sklearn.preprocessing import StandardScaler"
   ]
  },
  {
   "cell_type": "markdown",
   "metadata": {},
   "source": [
    "## Defining required classes\n",
    "### Data class"
   ]
  },
  {
   "cell_type": "code",
   "execution_count": 2,
   "metadata": {},
   "outputs": [],
   "source": [
    "class Data:\n",
    "    def __init__(self, train_feature_file, train_target_file, test_file, cat_cols, num_cols, target_col, id_col):\n",
    "        '''create train and test dataframe'''\n",
    "        #create new copies instead of references\n",
    "        self.cat_cols = list(cat_cols)\n",
    "        self.num_cols = list(num_cols)\n",
    "        self.feature_cols = cat_cols + num_cols\n",
    "        self.target_col = target_col\n",
    "        self.id_col = id_col\n",
    "        self.label_encoders = {}\n",
    "        self.train_df = self._create_train_df(train_feature_file, train_target_file)\n",
    "        self.test_df = self._create_test_df(test_file)\n",
    "    \n",
    "    def label_encode_df(self, df, cols):\n",
    "        '''creates one label encoder for each column in the data object instance'''\n",
    "        for col in cols:\n",
    "            if col in self.label_encoders:\n",
    "                #if label encoder already exits for col, use it\n",
    "                self._label_encode(df, col, self.label_encoders[col])\n",
    "            else:\n",
    "                self._label_encode(df, col)\n",
    "    \n",
    "    def inverse_encode_df(self, df, cols):\n",
    "        '''does inverse label encoding'''\n",
    "        for col in cols:\n",
    "            if col in self.label_encoders:\n",
    "                self._inverse_label_encode(df, col)  \n",
    "            else:\n",
    "                raise ValueError(\"label_encoders must be define for each col before calling inverse_encode_df\")\n",
    "\n",
    "    def _label_encode(self, df, col, le=None):\n",
    "        '''label encodes data'''\n",
    "        if le:\n",
    "            df[col] = le.transform(df[col])\n",
    "        else:\n",
    "            le = LabelEncoder()\n",
    "            le.fit(df[col])\n",
    "            df[col] = le.transform(df[col])\n",
    "            self.label_encoders[col] = le\n",
    "        \n",
    "    def _inverse_label_encode(self, df, col):\n",
    "        '''inverse label encodes data'''\n",
    "        le = self.label_encoders[col]\n",
    "        df[col] = le.inverse_transform(df[col])\n",
    " \n",
    "    def _create_train_df(self, train_feature_df, train_target_df, preprocess=True, label_encode=True):\n",
    "        '''loads and merges training data features and targets, preprocesses data, encodes data'''\n",
    "        train_feature_df = self._load_data(train_feature_file)\n",
    "        train_target_df = self._load_data(train_target_file)\n",
    "        train_df = self._merge_dfs(train_feature_df, train_target_df)\n",
    "        if preprocess:\n",
    "            train_df = self._clean_data(train_df)\n",
    "            train_df = self._shuffle_data(train_df)\n",
    "        if label_encode:\n",
    "            self.label_encode_df(train_df, self.cat_cols)\n",
    "        return train_df\n",
    "    \n",
    "    def _create_test_df(self, test_file, label_encode=True):\n",
    "        '''loads and label encodes test data'''\n",
    "        test_df = self._load_data(test_file)\n",
    "        if label_encode:\n",
    "            self.label_encode_df(test_df, self.cat_cols)\n",
    "        return test_df\n",
    "        \n",
    "    def _load_data(self, file):\n",
    "        return pd.read_csv(file)\n",
    "    \n",
    "    def _merge_dfs(self, df1, df2, key=None, left_index=False, right_index=False):\n",
    "        return pd.merge(left=df1, right=df2, how='inner', on=key, left_index=left_index, right_index=right_index)\n",
    "    \n",
    "    def _clean_data(self, df):\n",
    "        '''remove rows that contain salary <= 0 or duplicate job IDs'''\n",
    "        df = df.drop_duplicates(subset='jobId')\n",
    "        df = df[df.salary>0]\n",
    "        return df\n",
    "    \n",
    "    def _shuffle_data(self, df):\n",
    "         return shuffle(df).reset_index()"
   ]
  },
  {
   "cell_type": "markdown",
   "metadata": {},
   "source": [
    "### FeatureGenerator class"
   ]
  },
  {
   "cell_type": "code",
   "execution_count": 3,
   "metadata": {},
   "outputs": [],
   "source": [
    "class FeatureGenerator:\n",
    "    def __init__(self, data):\n",
    "        '''initializes class and creates groupby object for data'''\n",
    "        self.data = data\n",
    "        #able to generate features for new companies, but less accurate\n",
    "        #self.cat_cols = ['jobType', 'degree', 'major', 'industry']\n",
    "        self.cat_cols = data.cat_cols\n",
    "        self.groups = data.train_df.groupby(self.cat_cols)\n",
    "        \n",
    "    def add_group_stats(self):\n",
    "        '''adds group statistics to data stored in data object'''\n",
    "        #get group stats\n",
    "        group_stats_df = self._get_group_stats()\n",
    "        group_stats_df.reset_index(inplace=True)\n",
    "  \n",
    "        #merge derived columns to original df\n",
    "        self.data.train_df = self._merge_new_cols(self.data.train_df, group_stats_df, self.cat_cols, fillna=True)\n",
    "        self.data.test_df = self._merge_new_cols(self.data.test_df, group_stats_df, self.cat_cols, fillna=True)      \n",
    "        \n",
    "        #update column lists\n",
    "        group_stats_cols = ['group_mean', 'group_max', 'group_min', 'group_std', 'group_median']\n",
    "        self._extend_col_lists(self.data, cat_cols=group_stats_cols)  \n",
    "        \n",
    "    def _get_group_stats(self):\n",
    "        '''calculates group statistics'''\n",
    "        target_col = self.data.target_col\n",
    "        group_stats_df = pd.DataFrame({'group_mean': self.groups[target_col].mean()})\n",
    "        group_stats_df['group_max'] = self.groups[target_col].max()\n",
    "        group_stats_df['group_min'] = self.groups[target_col].min()\n",
    "        group_stats_df['group_std'] = self.groups[target_col].std()\n",
    "        group_stats_df['group_median'] = self.groups[target_col].median()\n",
    "        return group_stats_df\n",
    "        \n",
    "    def _merge_new_cols(self, df, new_cols_df, keys, fillna=False):\n",
    "        '''merges engineered features with original df'''\n",
    "        df = pd.merge(df, new_cols_df, on=keys, how='left')\n",
    "        if fillna:\n",
    "            df.fillna(0, inplace=True)\n",
    "        return df\n",
    "        \n",
    "    def _extend_col_lists(self, data, cat_cols=[], num_cols=[]):\n",
    "        '''addes engineered feature cols to data col lists'''\n",
    "        data.num_cols.extend(num_cols)\n",
    "        data.cat_cols.extend(cat_cols)\n",
    "        data.feature_cols.extend(num_cols + cat_cols)"
   ]
  },
  {
   "cell_type": "markdown",
   "metadata": {},
   "source": [
    "### ModelContainer class"
   ]
  },
  {
   "cell_type": "code",
   "execution_count": 4,
   "metadata": {},
   "outputs": [],
   "source": [
    "class ModelContainer:\n",
    "    def __init__(self, models=[]):#, default_num_iters=10, verbose_lvl=0):\n",
    "        '''initializes model list and dicts'''\n",
    "        self.models = models\n",
    "        self.best_model = None\n",
    "        self.predictions = None\n",
    "        self.mean_mse = {}\n",
    "        #self.default_num_iters = default_num_iters\n",
    "        #self.verbose_lvl = verbose_lvl\n",
    "        \n",
    "    def add_model(self, model):\n",
    "        self.models.append(model)\n",
    "\n",
    "    def cross_validate(self, data, k=3, num_procs=1):\n",
    "        '''cross validate models using given data'''\n",
    "        feature_df = data.train_df[data.feature_cols]\n",
    "        target_df = data.train_df[data.target_col]\n",
    "        for model in self.models:\n",
    "            neg_mse = cross_val_score(model, feature_df, target_df, cv=k, n_jobs=num_procs, scoring='neg_mean_squared_error')\n",
    "            self.mean_mse[model] = -1.0*np.mean(neg_mse)\n",
    "    \n",
    "    def select_best_model(self):\n",
    "        '''select model with lowest mse'''\n",
    "        self.best_model = min(self.mean_mse, key=self.mean_mse.get)\n",
    "        \n",
    "    def best_model_fit(self, features, targets):\n",
    "        '''fits best model'''\n",
    "        self.best_model.fit(features, targets)\n",
    "    \n",
    "    def best_model_predict(self, features):\n",
    "        '''scores features using best model'''\n",
    "        self.predictions = self.best_model.predict(features)\n",
    "        \n",
    "    def save_results(self):\n",
    "        pass\n",
    "    \n",
    "    @staticmethod\n",
    "    def get_feature_importance(model, cols):\n",
    "        '''retrieves and sorts feature importances'''\n",
    "        if hasattr(model, 'feature_importances_'):\n",
    "            importances = model.feature_importances_\n",
    "            feature_importances = pd.DataFrame({'feature':cols, 'importance':importances})\n",
    "            feature_importances.sort_values(by='importance', ascending=False, inplace=True)\n",
    "            #set index to 'feature'\n",
    "            feature_importances.set_index('feature', inplace=True, drop=True)\n",
    "            return feature_importances\n",
    "        else:\n",
    "            #some models don't have feature_importances_\n",
    "            return \"Feature importances do not exist for given model\"\n",
    "\n",
    "    def print_summary(self):\n",
    "        '''prints summary of models, best model, and feature importance'''\n",
    "        print('\\nModel Summaries:\\n')\n",
    "        for model in models.mean_mse:\n",
    "            print('\\n', model, '- MSE:', models.mean_mse[model])\n",
    "        print('\\nBest Model:\\n', models.best_model)\n",
    "        print('\\nMSE of Best Model\\n', models.mean_mse[models.best_model])\n",
    "        print('\\nFeature Importances\\n', models.get_feature_importance(models.best_model, data.feature_cols))\n",
    "\n",
    "        feature_importances = self.get_feature_importance(models.best_model, data.feature_cols)\n",
    "        feature_importances.plot.bar()\n",
    "        plt.show()"
   ]
  },
  {
   "cell_type": "markdown",
   "metadata": {},
   "source": [
    "## Defining parameters needed to create and run models"
   ]
  },
  {
   "cell_type": "code",
   "execution_count": 5,
   "metadata": {},
   "outputs": [],
   "source": [
    "#define number of processors to use for parallel runs\n",
    "num_procs = 4\n",
    "\n",
    "#set verbose level for models\n",
    "verbose_lvl = 0\n",
    "\n",
    "#define input files\n",
    "train_feature_file = 'data/train_features.csv'\n",
    "train_target_file = 'data/train_salaries.csv'\n",
    "test_file = 'data/test_features.csv'\n",
    "\n",
    "#define variables\n",
    "cat_cols = ['companyId', 'jobType', 'degree', 'major', 'industry']\n",
    "num_cols = ['yearsExperience', 'milesFromMetropolis']\n",
    "target_col = 'salary'\n",
    "id_col = 'jobId'\n",
    "\n",
    "#turn feature engineering on/off\n",
    "engineer_features = True"
   ]
  },
  {
   "cell_type": "markdown",
   "metadata": {},
   "source": [
    "### Creating Data object"
   ]
  },
  {
   "cell_type": "code",
   "execution_count": 7,
   "metadata": {},
   "outputs": [],
   "source": [
    "data = Data(train_feature_file, train_target_file, test_file, cat_cols, num_cols, target_col, id_col)"
   ]
  },
  {
   "cell_type": "markdown",
   "metadata": {},
   "source": [
    "## Engineering features\n",
    "The purpose is to create and add some additional rows to the data frame. These rows tell the model some statistical data (mean, max, min and standard devisation) of the people of the same 'companyId', 'jobType', 'degree', 'major', and 'industry'."
   ]
  },
  {
   "cell_type": "code",
   "execution_count": 8,
   "metadata": {},
   "outputs": [],
   "source": [
    "if engineer_features:\n",
    "    feature_generator = FeatureGenerator(data)\n",
    "    feature_generator.add_group_stats()"
   ]
  },
  {
   "cell_type": "markdown",
   "metadata": {},
   "source": [
    "## Creating model container and add models to it"
   ]
  },
  {
   "cell_type": "code",
   "execution_count": 9,
   "metadata": {},
   "outputs": [],
   "source": [
    "#create model container\n",
    "models = ModelContainer()\n",
    "\n",
    "#create models -- hyperparameter tuning already done by hand for each model\n",
    "models.add_model(LinearRegression())\n",
    "models.add_model(RandomForestRegressor(n_estimators=60, n_jobs=num_procs, max_depth=15, min_samples_split=80, \\\n",
    "                                       max_features=8, verbose=verbose_lvl))\n",
    "models.add_model(GradientBoostingRegressor(n_estimators=40, max_depth=7, loss='ls', verbose=verbose_lvl))"
   ]
  },
  {
   "cell_type": "markdown",
   "metadata": {},
   "source": [
    "## Cross validating models, then select, fit, and score test data with best model"
   ]
  },
  {
   "cell_type": "code",
   "execution_count": 10,
   "metadata": {},
   "outputs": [],
   "source": [
    "models.cross_validate(data, k=2, num_procs=num_procs)\n",
    "models.select_best_model()\n",
    "models.best_model_fit(data.train_df[data.feature_cols], data.train_df[data.target_col])\n",
    "models.best_model_predict(data.test_df[data.feature_cols])"
   ]
  },
  {
   "cell_type": "markdown",
   "metadata": {},
   "source": [
    "## Summarising results"
   ]
  },
  {
   "cell_type": "code",
   "execution_count": 11,
   "metadata": {},
   "outputs": [
    {
     "name": "stdout",
     "output_type": "stream",
     "text": [
      "\n",
      "Model Summaries:\n",
      "\n",
      "\n",
      " RandomForestRegressor(bootstrap=True, criterion='mse', max_depth=15,\n",
      "           max_features=8, max_leaf_nodes=None, min_impurity_decrease=0.0,\n",
      "           min_impurity_split=None, min_samples_leaf=1,\n",
      "           min_samples_split=80, min_weight_fraction_leaf=0.0,\n",
      "           n_estimators=60, n_jobs=4, oob_score=False, random_state=None,\n",
      "           verbose=0, warm_start=False) - MSE: 313.6360873611393\n",
      "\n",
      " GradientBoostingRegressor(alpha=0.9, criterion='friedman_mse', init=None,\n",
      "             learning_rate=0.1, loss='ls', max_depth=7, max_features=None,\n",
      "             max_leaf_nodes=None, min_impurity_decrease=0.0,\n",
      "             min_impurity_split=None, min_samples_leaf=1,\n",
      "             min_samples_split=2, min_weight_fraction_leaf=0.0,\n",
      "             n_estimators=40, n_iter_no_change=None, presort='auto',\n",
      "             random_state=None, subsample=1.0, tol=0.0001,\n",
      "             validation_fraction=0.1, verbose=0, warm_start=False) - MSE: 313.1055948161228\n",
      "\n",
      " LinearRegression(copy_X=True, fit_intercept=True, n_jobs=None,\n",
      "         normalize=False) - MSE: 358.171295641506\n",
      "\n",
      "Best Model:\n",
      " GradientBoostingRegressor(alpha=0.9, criterion='friedman_mse', init=None,\n",
      "             learning_rate=0.1, loss='ls', max_depth=7, max_features=None,\n",
      "             max_leaf_nodes=None, min_impurity_decrease=0.0,\n",
      "             min_impurity_split=None, min_samples_leaf=1,\n",
      "             min_samples_split=2, min_weight_fraction_leaf=0.0,\n",
      "             n_estimators=40, n_iter_no_change=None, presort='auto',\n",
      "             random_state=None, subsample=1.0, tol=0.0001,\n",
      "             validation_fraction=0.1, verbose=0, warm_start=False)\n",
      "\n",
      "MSE of Best Model\n",
      " 313.1055948161228\n",
      "\n",
      "Feature Importances\n",
      "                      importance\n",
      "feature                        \n",
      "group_mean             0.690169\n",
      "yearsExperience        0.152483\n",
      "milesFromMetropolis    0.104514\n",
      "group_min              0.015269\n",
      "group_std              0.013361\n",
      "group_max              0.011826\n",
      "group_median           0.010032\n",
      "jobType                0.001527\n",
      "industry               0.000591\n",
      "major                  0.000193\n",
      "degree                 0.000028\n",
      "companyId              0.000007\n"
     ]
    },
    {
     "data": {
      "image/png": "[encoded data removed]",
      "text/plain": [
       "<Figure size 432x288 with 1 Axes>"
      ]
     },
     "metadata": {
      "needs_background": "light"
     },
     "output_type": "display_data"
    }
   ],
   "source": [
    "models.print_summary()"
   ]
  },
  {
   "cell_type": "code",
   "execution_count": null,
   "metadata": {},
   "outputs": [],
   "source": []
  }
 ],
 "metadata": {
  "kernelspec": {
   "display_name": "Python [conda root]",
   "language": "python",
   "name": "conda-root-py"
  },
  "language_info": {
   "codemirror_mode": {
    "name": "ipython",
    "version": 3
   },
   "file_extension": ".py",
   "mimetype": "text/x-python",
   "name": "python",
   "nbconvert_exporter": "python",
   "pygments_lexer": "ipython3",
   "version": "3.5.6"
  }
 },
 "nbformat": 4,
 "nbformat_minor": 4
}
